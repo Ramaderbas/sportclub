{
  "cells": [
    {
      "cell_type": "markdown",
      "metadata": {
        "id": "view-in-github",
        "colab_type": "text"
      },
      "source": [
        "<a href=\"https://colab.research.google.com/github/Ramaderbas/sportclub/blob/main/Copy_of_Welcome_To_Colab.ipynb\" target=\"_parent\"><img src=\"https://colab.research.google.com/assets/colab-badge.svg\" alt=\"Open In Colab\"/></a>"
      ]
    },
    {
      "cell_type": "code",
      "source": [
        "class sport_club:\n",
        "  def __init__(self,name_club,number_of_medels,budget,location,number_of_wins,founded_year,costume_color):\n",
        "    self.name_club=name_club\n",
        "    self.number_of_medels=number_of_medels\n",
        "    self.__budget=budget\n",
        "    self.location=location\n",
        "    self.number_of_wins=number_of_wins\n",
        "    self.founded_year=founded_year\n",
        "    self.costume_color=costume_color\n",
        "    self.players={}\n",
        "    self.coaches=[]\n",
        "\n",
        "  def club_tax(self,budget,number_of_wins,number_of_medels):\n",
        "    tax_due=0.2*budget +(number_of_wins*0.1)+(number_of_medels*0.1)\n",
        "    return tax_due\n",
        "  def club_age(self):\n",
        "    return 2024-self.founded_year\n",
        "  def club_budget(self):\n",
        "    return self.__budget\n",
        "  def new_budget(self,new_budget):\n",
        "    self.__budget=new_budget\n",
        "  def add_player(self,player):\n",
        "    if player.name_player in self.players:\n",
        "      print(\"The player already exist in player list\")\n",
        "    else:\n",
        "      self.players[player.name_player] = {\n",
        "                \"number\": player.number,\n",
        "                \"position\": player.position,\n",
        "                \"goals\": player.goals,\n",
        "                \"assists\": player.assists,\n",
        "                \"matches\": player.matches,\n",
        "                \"num_of_medals\": player.num_of_medels\n",
        "            }\n",
        "  def add_coach(self,coach):\n",
        "    if coach in self.coaches:\n",
        "      print(f\"{coach} already exist in coush list\")\n",
        "    else:\n",
        "      self.coaches.append(coach)\n",
        "      print(self.coaches)\n",
        "\n",
        "\n",
        "class player(sport_club):\n",
        "  def __init__(self,name_player,number,position,goals,assists,matches,num_of_medels,name_club,number_of_medels,budget,location,number_of_wins,founded_year,costume_color):\n",
        "    super().__init__(name_club,number_of_medels,budget,location,number_of_wins,founded_year,costume_color)\n",
        "    self.name_player=name_player\n",
        "    self.number=number\n",
        "    self.position=position\n",
        "    self.goals=goals\n",
        "    self.assists=assists\n",
        "    self.matches=matches\n",
        "    self.num_of_medels=num_of_medels\n",
        "  def score_goals(self):\n",
        "    goals=0\n",
        "    for player in self.players.values():\n",
        "      goals+=player[\"goals\"]\n",
        "    return goals\n",
        "  def provide_assists(self):\n",
        "    pass\n",
        "  def track(self):\n",
        "    pass\n",
        "  def number_of_matches_played(self):\n",
        "    matches=self.matches\n",
        "    return matches\n",
        "  def calculate_performance(self,goals,assists,matches):\n",
        "    performance_score=(goals*0.7)+(assists*0.15)+(matches*0.15)\n",
        "    return performance_score\n",
        "\n",
        "class coach(sport_club):\n",
        "  def __init__(self,name_coach,experince_level,trainind_certificates,medals,name_club,number_of_medels,budget,location,number_of_wins,founded_year,costume_color):\n",
        "    super().__init__(name_club,number_of_medels,budget,location,number_of_wins,founded_year,costume_color)\n",
        "    self.name_coach=name_coach\n",
        "    self.experince_level=experince_level\n",
        "    self.trainind_certificates=trainind_certificates\n",
        "    self.medals=medals\n",
        "  def calculate_efficiency (self,experince_level,trainind_certificates,medals):\n",
        "    efficiency_score=(experince_level*0.5)+(trainind_certificates*0.20)+(medals*0.30)\n",
        "    return efficiency_score\n",
        "\n",
        "def combare_clubs(club1,club2):\n",
        "  if club1.number_of_medels>club2.number_of_medels:\n",
        "    return club1.name_club ,\"is the better club.\"\n",
        "  else:\n",
        "    return club2.name_club ,\"is the better club.\"\n",
        "\n",
        "club = sport_club(\"Al Ahli\", 10, 50000, \"Riyadh\", 20, 1985, \"Green\")\n",
        "player1 = player(\"Rama\", 12, \"Forward\", 20, 5, 45, 3,\"Al Ahli\", 10, 50000, \"Riyadh\", 20, 1985, \"Green\")\n",
        "player2 = player(\"Ahmed\", 12, \"Forward\", 30, 6, 30, 2,\"Al Ahli\", 10, 50000, \"Riyadh\", 20, 1985, \"Green\")\n",
        "\n",
        "club.add_player(player1)\n",
        "club.add_player(player2)\n",
        "print(player2.number_of_matches_played())\n",
        "print(club.players)"
      ],
      "metadata": {
        "id": "LKe76giSK2h7",
        "outputId": "4bb7d83b-db7e-4721-8b1a-eb6f2a8f109f",
        "colab": {
          "base_uri": "https://localhost:8080/"
        }
      },
      "execution_count": 5,
      "outputs": [
        {
          "output_type": "stream",
          "name": "stdout",
          "text": [
            "30\n",
            "{'Rama': {'number': 12, 'position': 'Forward', 'goals': 20, 'assists': 5, 'matches': 45, 'num_of_medals': 3}, 'Ahmed': {'number': 12, 'position': 'Forward', 'goals': 30, 'assists': 6, 'matches': 30, 'num_of_medals': 2}}\n"
          ]
        }
      ]
    }
  ],
  "metadata": {
    "colab": {
      "provenance": [],
      "include_colab_link": true
    },
    "kernelspec": {
      "display_name": "Python 3",
      "name": "python3"
    }
  },
  "nbformat": 4,
  "nbformat_minor": 0
}